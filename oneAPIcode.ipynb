{
 "cells": [
  {
   "cell_type": "code",
   "execution_count": null,
   "id": "5079fbe0-7edb-4e13-9f5c-f84e36fff9d5",
   "metadata": {},
   "outputs": [],
   "source": [
    "import os\n",
    "import numpy as np\n",
    "import warnings\n",
    "\n",
    "warnings.filterwarnings(\"ignore\")\n"
   ]
  },
  {
   "cell_type": "code",
   "execution_count": null,
   "id": "8d8e7a45-8995-4b50-9b3e-024cfb2362ac",
   "metadata": {},
   "outputs": [],
   "source": [
    "import pandas as pd\n",
    "import modin.pandas as pd\n",
    "\n",
    "import modin.config as cfg\n",
    "cfg.StorageFormat.put('hdk')\n"
   ]
  },
  {
   "cell_type": "code",
   "execution_count": null,
   "id": "60250805-aedb-40b6-8f6a-72a9db91446f",
   "metadata": {},
   "outputs": [],
   "source": [
    "from sklearnex import patch_sklearn\n",
    "patch_sklearn()\n",
    "\n",
    "from sklearn import config_context\n",
    "from sklearn.metrics import mean_squared_error, r2_score\n",
    "from sklearn.model_selection import train_test_split\n",
    "import sklearn.linear_model as lm\n",
    "\n",
    "from sklearn.preprocessing import StandardScaler\n",
    "from sklearn.tree import DecisionTreeClassifier\n",
    "from sklearn.neighbors import KNeighborsClassifier\n",
    "from sklearn.linear_model import LogisticRegression\n",
    "from sklearn.svm import SVC\n",
    "from sklearn.ensemble import RandomForestClassifier\n",
    "from xgboost import XGBClassifier\n",
    " \n",
    "from sklearn.metrics import accuracy_score\n",
    "from sklearn.metrics import f1_score\n"
   ]
  },
  {
   "cell_type": "code",
   "execution_count": null,
   "id": "859bc323-200a-45d7-ab08-cd2e6594014a",
   "metadata": {},
   "outputs": [],
   "source": [
    "\n",
    "import time\n",
    "dt_start = time.time()\n",
    "\n",
    "# 训练该数据集需要大约30G内存，如果内存足够，使用该行代码读取所有数据\n",
    "df = pd.read_csv('creditcard.csv')\n",
    "\n",
    "print(\"read_csv time: \", time.time() - dt_start)"
   ]
  },
  {
   "cell_type": "code",
   "execution_count": null,
   "id": "618a1d8f-49ab-4bbb-b570-91cc089ef230",
   "metadata": {},
   "outputs": [],
   "source": [
    "from sklearn.preprocessing import StandardScaler\n",
    "#StandardScaler作用：去均值和方差归一化。且是针对每一个特征维度来做的，而不是针对样本。\n",
    "df['normAmount'] = StandardScaler().fit_transform(df['Amount'].values.reshape(-1, 1))\n",
    "#删除Time和Amount所在的列\n",
    "df = df.drop(['Time','Amount'],axis=1)\n",
    "df.head()\n"
   ]
  },
  {
   "cell_type": "code",
   "execution_count": null,
   "id": "09e718d2-126d-421f-9423-b3abc0d0e34e",
   "metadata": {},
   "outputs": [],
   "source": [
    "X = df.loc[:, df.columns != 'Class']\n",
    "Y = df.loc[:, df.columns == 'Class']\n",
    " \n",
    "#计算出class==1（存在欺诈行为）元素有多少个\n",
    "number_records_fraud = len(df[df.Class == 1])\n",
    "#取出class==1的行索引\n",
    "fraud_indices = np.array(df[df.Class == 1].index)\n",
    " \n",
    "#取出class==0的行索引\n",
    "normal_indices = df[df.Class == 0].index\n",
    " \n",
    "#随机选择和1这个属性样本个数相同的0样本\n",
    "random_normal_indices = np.random.choice(normal_indices, number_records_fraud, replace = False)\n",
    "#转换成numpy的格式\n",
    "random_normal_indices = np.array(random_normal_indices)\n",
    " \n",
    "#将class=0和1的样本的索引拼接在一起\n",
    "under_sample_indices = np.concatenate([fraud_indices,random_normal_indices])\n",
    " \n",
    "#下采样的数据集\n",
    "under_sample_data = df.iloc[under_sample_indices,:]\n",
    " #下采样数据集的数据\n",
    "X_undersample = under_sample_data.loc[:, under_sample_data.columns != 'Class']\n",
    "#下采样数据集的label\n",
    "y_undersample = under_sample_data.loc[:, under_sample_data.columns == 'Class']\n",
    " \n",
    "#打印Class == 0的样本数目\n",
    "print(\"Percentage of normal transactions: \", len(under_sample_data[under_sample_data.Class == 0])/len(under_sample_data))\n",
    "#打印Class == 0的样本数目\n",
    "print(\"Percentage of fraud transactions: \", len(under_sample_data[under_sample_data.Class == 1])/len(under_sample_data))\n",
    "#打印下采样の1总数量\n",
    "print(\"Total number of transactions in resampled data: \", len(under_sample_data))\n"
   ]
  },
  {
   "cell_type": "code",
   "execution_count": null,
   "id": "8fa6b1c9-ab7b-43a9-bff4-782bc9bb0023",
   "metadata": {},
   "outputs": [],
   "source": [
    "from sklearn.model_selection import train_test_split\n",
    "#下取样的数据集\n",
    "X_train,X_test,y_train,y_test=train_test_split(X_undersample,y_undersample ,test_size = 0.3,random_state = 0)\n",
    "print(\"\")\n",
    "print(\"Number transactions train dataset: \", len(X_train))\n",
    "print(\"Number transactions test dataset: \", len(X))\n",
    "print(\"Total number of transactions: \", len(X_train)+len(X_test))"
   ]
  },
  {
   "cell_type": "code",
   "execution_count": null,
   "id": "2353734f-63d3-4fb2-a001-6da5eaa9e0a9",
   "metadata": {},
   "outputs": [],
   "source": [
    "# MODELING\n",
    "dt_start = time.time()\n",
    "# 1. Decision Tree\n",
    "tree_model = DecisionTreeClassifier(max_depth=4, criterion='entropy')\n",
    "tree_model.fit(X_train, y_train)\n",
    "tree_yhat = tree_model.predict(X_test)\n",
    " \n",
    "# 2. K-Nearest Neighbors\n",
    "n = 5\n",
    "knn = KNeighborsClassifier(n_neighbors=n)\n",
    "knn.fit(X_train, y_train)\n",
    "knn_yhat = knn.predict(X_test)\n",
    " \n",
    "# 3. Logistic Regression\n",
    "lr = LogisticRegression()\n",
    "lr.fit(X_train, y_train)\n",
    "lr_yhat = lr.predict(X_test)\n",
    " \n",
    "# 4. SVM \n",
    "svm = SVC()\n",
    "svm.fit(X_train, y_train)\n",
    "svm_yhat = svm.predict(X_test)\n",
    " \n",
    "# 5. Random Forest Tree\n",
    "rf = RandomForestClassifier(max_depth=4)\n",
    "rf.fit(X_train, y_train)\n",
    "rf_yhat = rf.predict(X_test)\n",
    " \n",
    "# # 6. XGBoost\n",
    "xgb = XGBClassifier(max_depth=4)\n",
    "xgb.fit(X_train, y_train)\n",
    "xgb_yhat = xgb.predict(X_test)\n",
    "\n",
    "print(\"Ridge Regression traing & inference time: \", time.time() - dt_start)"
   ]
  },
  {
   "cell_type": "code",
   "execution_count": null,
   "id": "3c3d83d5-2b1b-4fd5-8a9b-4c827ac6422f",
   "metadata": {},
   "outputs": [],
   "source": [
    "# 1. Accuracy score\n",
    "dt_start = time.time()\n",
    "print('ACCURACY SCORE')\n",
    "print('Accuracy score of the Decision Tree model is {}'\n",
    "         .format(accuracy_score(y_test, tree_yhat)),\n",
    "    )\n",
    "print('Accuracy score of the KNN model is {}'\n",
    "         .format(accuracy_score(y_test, knn_yhat)))\n",
    "print('Accuracy score of the Logistic Regression model is {}'\n",
    "         .format(accuracy_score(y_test, lr_yhat)))\n",
    "print('Accuracy score of the SVM model is {}'\n",
    "         .format(accuracy_score(y_test, svm_yhat)) )\n",
    "print('Accuracy score of the Random Forest Tree model is {}'\n",
    "         .format(accuracy_score(y_test, rf_yhat)))\n",
    "print('Accuracy score of the XGBoost model is {}'\n",
    "         .format(accuracy_score(y_test, xgb_yhat)) )\n",
    "print(\"Accuracy score time: \", time.time() - dt_start)"
   ]
  },
  {
   "cell_type": "code",
   "execution_count": null,
   "id": "20dffb5f-044c-46fd-94fd-44c88569aef9",
   "metadata": {},
   "outputs": [],
   "source": [
    "# 2. F1 score\n",
    "dt_start = time.time()\n",
    "print('F1 SCORE')\n",
    "print('F1 score of the Decision Tree model is {}'\n",
    "         .format(f1_score(y_test, tree_yhat)))\n",
    "print('F1 score of the KNN model is {}'\n",
    "         .format(f1_score(y_test, knn_yhat)))\n",
    "print('F1 score of the Logistic Regression model is {}'\n",
    "         .format(f1_score(y_test, lr_yhat)))\n",
    "print('F1 score of the SVM model is {}'\n",
    "         .format(f1_score(y_test, svm_yhat)) )\n",
    "print('F1 score of the Random Forest Tree model is {}'\n",
    "         .format(f1_score(y_test, rf_yhat)))\n",
    "print('F1 score of the XGBoost model is {}'\n",
    "         .format(f1_score(y_test, xgb_yhat)))\n",
    "print(\"F1 score time: \", time.time() - dt_start)"
   ]
  },
  {
   "cell_type": "code",
   "execution_count": null,
   "id": "6a925387-ecce-472e-ab36-f5ec0fcc7143",
   "metadata": {},
   "outputs": [],
   "source": []
  },
  {
   "cell_type": "code",
   "execution_count": null,
   "id": "d6d23d1a-7bcf-445c-96fc-d0037ebc571a",
   "metadata": {},
   "outputs": [],
   "source": []
  },
  {
   "cell_type": "code",
   "execution_count": null,
   "id": "ec454920-9f05-4c51-b2da-ecdeb95063ef",
   "metadata": {},
   "outputs": [],
   "source": []
  }
 ],
 "metadata": {
  "kernelspec": {
   "display_name": "modin-hdk",
   "language": "python",
   "name": "modin-hdk"
  },
  "language_info": {
   "codemirror_mode": {
    "name": "ipython",
    "version": 3
   },
   "file_extension": ".py",
   "mimetype": "text/x-python",
   "name": "python",
   "nbconvert_exporter": "python",
   "pygments_lexer": "ipython3",
   "version": "3.9.16"
  }
 },
 "nbformat": 4,
 "nbformat_minor": 5
}
